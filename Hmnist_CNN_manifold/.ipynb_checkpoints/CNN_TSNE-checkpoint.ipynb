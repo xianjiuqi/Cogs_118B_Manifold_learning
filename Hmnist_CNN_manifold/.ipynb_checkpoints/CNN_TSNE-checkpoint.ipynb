{
 "cells": [
  {
   "cell_type": "code",
   "execution_count": 2,
   "metadata": {},
   "outputs": [],
   "source": [
    "import pandas as pd\n",
    "import numpy as np\n",
    "import matplotlib.pyplot as plt\n",
    "from sklearn.manifold import TSNE\n",
    "from sklearn.model_selection import train_test_split"
   ]
  },
  {
   "cell_type": "code",
   "execution_count": 3,
   "metadata": {},
   "outputs": [
    {
     "name": "stderr",
     "output_type": "stream",
     "text": [
      "C:\\Users\\xjq\\Anaconda3\\lib\\site-packages\\h5py\\__init__.py:34: FutureWarning: Conversion of the second argument of issubdtype from `float` to `np.floating` is deprecated. In future, it will be treated as `np.float64 == np.dtype(float).type`.\n",
      "  from ._conv import register_converters as _register_converters\n"
     ]
    },
    {
     "data": {
      "text/plain": [
       "'1.12.0'"
      ]
     },
     "execution_count": 3,
     "metadata": {},
     "output_type": "execute_result"
    }
   ],
   "source": [
    "import tensorflow as tf\n",
    "tf.__version__"
   ]
  },
  {
   "cell_type": "code",
   "execution_count": 4,
   "metadata": {},
   "outputs": [],
   "source": [
    "from tensorflow.keras.models import Sequential\n",
    "from tensorflow.keras.layers import Dense, Conv2D, MaxPooling2D, Dropout, Flatten"
   ]
  },
  {
   "cell_type": "code",
   "execution_count": 5,
   "metadata": {},
   "outputs": [],
   "source": [
    "images = pd.read_csv('hmnist_64_64_L.csv')\n",
    "images = np.array(images) #dim = (4097,1)"
   ]
  },
  {
   "cell_type": "code",
   "execution_count": 6,
   "metadata": {},
   "outputs": [
    {
     "name": "stdout",
     "output_type": "stream",
     "text": [
      "(5000, 64, 64)\n"
     ]
    }
   ],
   "source": [
    "X = images[:,0:4096]\n",
    "num_samples = len(X)\n",
    "X = np.reshape(X, (num_samples,64,64))\n",
    "print(X.shape)\n",
    "y = images[:,4096]    #label: 8 class, index 1,2,...8\n"
   ]
  },
  {
   "cell_type": "code",
   "execution_count": 7,
   "metadata": {},
   "outputs": [
    {
     "data": {
      "text/plain": [
       "<matplotlib.image.AxesImage at 0x2205e9c7470>"
      ]
     },
     "execution_count": 7,
     "metadata": {},
     "output_type": "execute_result"
    },
    {
     "data": {
      "image/png": "[encoded data removed]",
      "text/plain": [
       "<matplotlib.figure.Figure at 0x2205cee02e8>"
      ]
     },
     "metadata": {},
     "output_type": "display_data"
    }
   ],
   "source": [
    "plt.imshow(X[300])"
   ]
  },
  {
   "cell_type": "code",
   "execution_count": 8,
   "metadata": {},
   "outputs": [],
   "source": [
    "X_reshaped = np.reshape(X, (num_samples,64,64,1))/255.0\n",
    "X_train, X_test, y_train, y_test = train_test_split(X_reshaped, y, test_size=0.2, random_state=42)\n",
    "one_hot_y_train = tf.keras.utils.to_categorical(y_train-1, num_classes=8)  # y_train is labeled 1,2,..8, so minus 1, \n",
    "one_hot_y_test = tf.keras.utils.to_categorical(y_test-1, num_classes=8)\n",
    "\n",
    "pixel_dim = 4096\n",
    "epochs = 1\n",
    "batch_size = 128"
   ]
  },
  {
   "cell_type": "code",
   "execution_count": 9,
   "metadata": {},
   "outputs": [],
   "source": [
    "def createModel():\n",
    "    model = Sequential()\n",
    "    model.add(Conv2D(32, (3, 3), padding='same', activation='relu',input_shape=(64,64,1)))\n",
    "    #model.add(Conv2D(32, (3, 3), activation='relu'))\n",
    "    #model.add(MaxPooling2D(pool_size=(2, 2)))\n",
    "    model.add(Dropout(0.25))\n",
    " \n",
    "    #model.add(Conv2D(64, (3, 3), padding='same', activation='relu'))\n",
    "    model.add(Conv2D(64, (3, 3), activation='relu'))\n",
    "    model.add(MaxPooling2D(pool_size=(2, 2)))\n",
    "    model.add(Dropout(0.25))\n",
    " \n",
    "    #model.add(Conv2D(64, (3, 3), padding='same', activation='relu'))\n",
    "    #model.add(Conv2D(64, (3, 3), activation='relu'))\n",
    "    #model.add(MaxPooling2D(pool_size=(2, 2)))\n",
    "    #model.add(Dropout(0.25))\n",
    " \n",
    "    model.add(Flatten())\n",
    "    model.add(Dense(128, activation='relu'))\n",
    "    #model.add(Dropout(0.5))\n",
    "    model.add(Dense(8, activation='softmax'))\n",
    "    \n",
    "    return model"
   ]
  },
  {
   "cell_type": "code",
   "execution_count": 10,
   "metadata": {},
   "outputs": [
    {
     "name": "stdout",
     "output_type": "stream",
     "text": [
      "_________________________________________________________________\n",
      "Layer (type)                 Output Shape              Param #   \n",
      "=================================================================\n",
      "conv2d (Conv2D)              (None, 64, 64, 32)        320       \n",
      "_________________________________________________________________\n",
      "dropout (Dropout)            (None, 64, 64, 32)        0         \n",
      "_________________________________________________________________\n",
      "conv2d_1 (Conv2D)            (None, 62, 62, 64)        18496     \n",
      "_________________________________________________________________\n",
      "max_pooling2d (MaxPooling2D) (None, 31, 31, 64)        0         \n",
      "_________________________________________________________________\n",
      "dropout_1 (Dropout)          (None, 31, 31, 64)        0         \n",
      "_________________________________________________________________\n",
      "flatten (Flatten)            (None, 61504)             0         \n",
      "_________________________________________________________________\n",
      "dense (Dense)                (None, 128)               7872640   \n",
      "_________________________________________________________________\n",
      "dense_1 (Dense)              (None, 8)                 1032      \n",
      "=================================================================\n",
      "Total params: 7,892,488\n",
      "Trainable params: 7,892,488\n",
      "Non-trainable params: 0\n",
      "_________________________________________________________________\n"
     ]
    }
   ],
   "source": [
    "model1= createModel()\n",
    "model1.summary()"
   ]
  },
  {
   "cell_type": "code",
   "execution_count": 11,
   "metadata": {},
   "outputs": [],
   "source": [
    "model1 = createModel()\n",
    "model1.compile(optimizer='rmsprop',\n",
    "              loss='categorical_crossentropy',\n",
    "              metrics=['accuracy'])\n"
   ]
  },
  {
   "cell_type": "code",
   "execution_count": 12,
   "metadata": {},
   "outputs": [
    {
     "name": "stdout",
     "output_type": "stream",
     "text": [
      "Epoch 1/15\n",
      "4000/4000 [==============================] - 87s 22ms/step - loss: 2.4684 - acc: 0.2635\n",
      "Epoch 2/15\n",
      "4000/4000 [==============================] - 74s 19ms/step - loss: 1.3410 - acc: 0.4100\n",
      "Epoch 3/15\n",
      "4000/4000 [==============================] - 73s 18ms/step - loss: 1.1704 - acc: 0.5155\n",
      "Epoch 4/15\n",
      "4000/4000 [==============================] - 73s 18ms/step - loss: 1.0626 - acc: 0.5570\n",
      "Epoch 5/15\n",
      "4000/4000 [==============================] - 74s 18ms/step - loss: 1.0049 - acc: 0.5807\n",
      "Epoch 6/15\n",
      "4000/4000 [==============================] - 73s 18ms/step - loss: 0.9143 - acc: 0.6467\n",
      "Epoch 7/15\n",
      "4000/4000 [==============================] - 73s 18ms/step - loss: 0.8203 - acc: 0.6745\n",
      "Epoch 8/15\n",
      "4000/4000 [==============================] - 73s 18ms/step - loss: 0.7652 - acc: 0.7167\n",
      "Epoch 9/15\n",
      "4000/4000 [==============================] - 87s 22ms/step - loss: 0.6669 - acc: 0.7540\n",
      "Epoch 10/15\n",
      "4000/4000 [==============================] - 117s 29ms/step - loss: 0.6107 - acc: 0.7792\n",
      "Epoch 11/15\n",
      "4000/4000 [==============================] - 113s 28ms/step - loss: 0.5750 - acc: 0.8085\n",
      "Epoch 12/15\n",
      "4000/4000 [==============================] - 116s 29ms/step - loss: 0.4478 - acc: 0.8530\n",
      "Epoch 13/15\n",
      "4000/4000 [==============================] - 103s 26ms/step - loss: 0.4427 - acc: 0.8462\n",
      "Epoch 14/15\n",
      "4000/4000 [==============================] - 99s 25ms/step - loss: 0.4115 - acc: 0.8765\n",
      "Epoch 15/15\n",
      "4000/4000 [==============================] - 102s 26ms/step - loss: 0.3470 - acc: 0.8870\n"
     ]
    }
   ],
   "source": [
    "history = model1.fit(X_train, one_hot_y_train, epochs=15, batch_size=batch_size)"
   ]
  },
  {
   "cell_type": "code",
   "execution_count": 14,
   "metadata": {},
   "outputs": [
    {
     "name": "stdout",
     "output_type": "stream",
     "text": [
      "1000/1000 [==============================] - 6s 6ms/step\n"
     ]
    },
    {
     "data": {
      "text/plain": [
       "[1.2033655796051026, 0.595]"
      ]
     },
     "execution_count": 14,
     "metadata": {},
     "output_type": "execute_result"
    }
   ],
   "source": [
    "model1.evaluate(X_test, one_hot_y_test)"
   ]
  },
  {
   "cell_type": "code",
   "execution_count": null,
   "metadata": {},
   "outputs": [],
   "source": []
  }
 ],
 "metadata": {
  "kernelspec": {
   "display_name": "Python 3",
   "language": "python",
   "name": "python3"
  },
  "language_info": {
   "codemirror_mode": {
    "name": "ipython",
    "version": 3
   },
   "file_extension": ".py",
   "mimetype": "text/x-python",
   "name": "python",
   "nbconvert_exporter": "python",
   "pygments_lexer": "ipython3",
   "version": "3.5.0"
  }
 },
 "nbformat": 4,
 "nbformat_minor": 2
}
