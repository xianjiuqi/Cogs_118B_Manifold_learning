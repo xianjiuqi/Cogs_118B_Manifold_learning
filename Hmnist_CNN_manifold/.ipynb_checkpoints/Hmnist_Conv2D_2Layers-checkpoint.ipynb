{
 "cells": [
  {
   "cell_type": "markdown",
   "metadata": {},
   "source": [
    "## 1. Frame the problem \n",
    "In this tutorial, we will learn to build a simple covolutional neural networks using keras. Keras is a popular high-level deep learning API that can use either Theano or Tensorflow as a backend. You can install keras with the command \"pip install keras\". For more details about the API, please refer to https://keras.io/\n",
    "First we will import some python packages.\n"
   ]
  },
  {
   "cell_type": "code",
   "execution_count": 1,
   "metadata": {
    "scrolled": true
   },
   "outputs": [
    {
     "name": "stderr",
     "output_type": "stream",
     "text": [
      "Using TensorFlow backend.\n"
     ]
    }
   ],
   "source": [
    "from __future__ import print_function                  # Allows for python3 printing\n",
    "import keras\n",
    "from keras.datasets import cifar100                    # import function to load cifar100 dataset\n",
    "from keras.models import Model\n",
    "from keras.layers import Input, Dense, Activation, Flatten,Dropout\n",
    "from keras.layers.convolutional import Conv2D\n",
    "from keras.layers.pooling import MaxPooling2D\n",
    "from keras import optimizers"
   ]
  },
  {
   "cell_type": "markdown",
   "metadata": {},
   "source": [
    "Keras has two kinds of models, the Sequential model is a linear stack of layers and is simpler. The other is the Model class used with functional API, which is capable to build more complex models.In project 1 we have learnt how to use Sequential model, and here we will try to use functional API. \n",
    "\n",
    "## 2. Get the data\n",
    "Here we use cifar 100 as our dataset. The dataset is loaded directly from keras. Alternatively, you can download the dataset from https://www.cs.toronto.edu/~kriz/cifar.html"
   ]
  },
  {
   "cell_type": "code",
   "execution_count": 2,
   "metadata": {
    "collapsed": true
   },
   "outputs": [],
   "source": [
    "(x_train, y_train), (x_val, y_val) = cifar100.load_data(label_mode='fine')"
   ]
  },
  {
   "cell_type": "markdown",
   "metadata": {},
   "source": [
    "## 3. Explore the data\n",
    "\n",
    "In this section we use code to gather more information about our data. Usually the most important things we want to know about the data are: \n",
    "1. the dimension/shape of the data\n",
    "2. range of the data\n",
    "3. visualization of the data "
   ]
  },
  {
   "cell_type": "code",
   "execution_count": 3,
   "metadata": {},
   "outputs": [
    {
     "name": "stdout",
     "output_type": "stream",
     "text": [
      "the shape of training data is: (50000, 32, 32, 3) (50000, 1)\n",
      "the shape of testing data is: (10000, 32, 32, 3) (10000, 1)\n",
      "the range of feature is: 0 to 255\n",
      "the range of label is: 0 to 99\n",
      "label 1 is [19]\n",
      "label 2 is [29]\n",
      "label 3 is [0]\n",
      "label 4 is [11]\n",
      "label 5 is [1]\n"
     ]
    },
    {
     "data": {
      "image/png": "[encoded data removed]",
      "text/plain": [
       "<matplotlib.figure.Figure at 0x16859f9ef28>"
      ]
     },
     "metadata": {},
     "output_type": "display_data"
    }
   ],
   "source": [
    "print ('the shape of training data is:',x_train.shape,y_train.shape)       #print data shape\n",
    "print ('the shape of testing data is:',x_val.shape,y_val.shape)\n",
    "\n",
    "import numpy as np\n",
    "print ('the range of feature is:',np.min(x_train),'to',np.max(x_train))\n",
    "print ('the range of label is:',np.min(y_train),'to',np.max(y_train))\n",
    "\n",
    "import matplotlib.pyplot as plt\n",
    "% matplotlib inline\n",
    "for i in range(5):\n",
    "    image = x_train[i]\n",
    "    plt.subplot(1,5, i+1)\n",
    "#    image = image.reshape(64,64)\n",
    "    print ('label', i+1, 'is',y_train[i])\n",
    "    plt.imshow(image, cmap='Greys')\n",
    "    plt.axis('off')\n",
    "    \n"
   ]
  },
  {
   "cell_type": "markdown",
   "metadata": {},
   "source": [
    "Here we see that there are 50000 training data samples and 10000 data sample. Each picture has the dimension of 32x32x3, as 3 represents three color channels (RGB). The feature ranges from 0 to 255, so we should normalize it to 0 to 1. The lable ranges from 0 to 99, and therefore we should do onehot encoding. \n",
    "\n",
    "## 4. Prepare the data\n",
    "To preprosses the data, we need to divide features by 255 for normalization. After that, we will use function from keras **utils.to.categoriacal** to do one-hot encoding. "
   ]
  },
  {
   "cell_type": "code",
   "execution_count": 4,
   "metadata": {
    "collapsed": true
   },
   "outputs": [],
   "source": [
    "# convert class vectors to binary class matrices\n",
    "x_train =x_train/255\n",
    "x_val = x_val/255\n",
    "y_train = keras.utils.to_categorical(y_train[:,0], num_classes=100)\n",
    "y_val = keras.utils.to_categorical(y_val[:,0], num_classes=100)"
   ]
  },
  {
   "cell_type": "markdown",
   "metadata": {},
   "source": [
    "## 5.1 Create the model\n",
    "In this section we will create a very basic convolutional neural network with two convolutional layers and one fully-connected layer. The input shape is defined as (32, 32, 3) to match the images of the cifar 100 dataset.Kernels of size 3x3 and stride 1 are used for first convolutional layer; Kernels of size 2x2 and stride 1 are used for first convolutional layer. Max pooling with pool size 2x2 occurs after the second convolutional layer. We also add dropout layers. \n",
    "\n",
    "For Fully-connected layer, each instance is first flattened, then passed into a fully connected neural network withh 200 neurons. The output layer is a 100-units softmax layer which corresponds to the 100 classes.\n",
    "\n",
    "Finally, we use **model.compile** to configure the model. we use categorical cross entropy loss function. We arbitrarily pick an Adam optimizer. Also we want to use evaluation metrics that output the accuracy (if predicted label matches the true label) and top-5 accuracy(if the first five most probably prediction matches the true label)."
   ]
  },
  {
   "cell_type": "code",
   "execution_count": 5,
   "metadata": {
    "collapsed": true
   },
   "outputs": [],
   "source": [
    "def ConvNet(num_classes=100):\n",
    "\n",
    "    images = Input(shape=(32, 32, 3))           #use input shape that matches image size\n",
    "    \n",
    "    # Convolutional layers\n",
    "    x = Conv2D(filters=32, kernel_size=(3, 3), padding='same', activation='relu')(images)  #conv layer1\n",
    "    x = Dropout(0.25)(x)                     #dropout layer1\n",
    "    \n",
    "    x = Conv2D(filters=64, kernel_size=(2, 2), activation='relu')(x)   #conv layer2\n",
    "    x = MaxPooling2D(pool_size=(2, 2))(x)  #pooling layer2\n",
    "    x = Dropout(0.5)(x)                     #dropout layer1\n",
    "\n",
    "    # Fully-connected layer: \n",
    "    x = Flatten()(x)          \n",
    "    x = Dense(200)(x)         #200 neurons fc layer\n",
    "    x = Dense(units=num_classes, activation='softmax')(x)\n",
    "\n",
    "    # Instantiate a model based on inputs/outputs\n",
    "    model = Model(inputs=images, outputs=x)\n",
    "\n",
    "    # Configure the model for training. \n",
    "    model.compile(\n",
    "            loss='categorical_crossentropy',\n",
    "            optimizer=optimizers.Adam(),\n",
    "            metrics=[\n",
    "                'categorical_accuracy',\n",
    "                keras.metrics.top_k_categorical_accuracy])\n",
    "\n",
    "    return model"
   ]
  },
  {
   "cell_type": "markdown",
   "metadata": {},
   "source": [
    "Since the input image is 32x32x3, we should not use a large kernel size.Otherwise it is likely that the model will have a bad performance, as too much infomation lost during training. We also don't want to use too much pooling for the same reason. We also use the \"same padding\" to prevent feature size shrinking and preserve boundary information. The number of filters are chosen arbitrarily. more filters is equivalent to have more parameters and also longer training time. \n",
    "\n",
    "For details of other optimizers check [Keras:optimizers](https://keras.io/optimizers/). We used 'categorical_crossentropy' since our problem is a multi-class classification problem."
   ]
  },
  {
   "cell_type": "markdown",
   "metadata": {},
   "source": [
    "## 5.2 train the model\n",
    "Here we call our model defined in the last section, and trained the model using **.fit**. The first two input arguments should be training data and label, then we will specify epochs.For the validation data we will simply use validation dataset imported. We also want to shuffle the training data before each epoch."
   ]
  },
  {
   "cell_type": "code",
   "execution_count": null,
   "metadata": {
    "scrolled": true
   },
   "outputs": [
    {
     "name": "stdout",
     "output_type": "stream",
     "text": [
      "Train on 50000 samples, validate on 10000 samples\n",
      "Epoch 1/30\n",
      "50000/50000 [==============================] - 150s - loss: 3.4802 - categorical_accuracy: 0.1844 - top_k_categorical_accuracy: 0.4324 - val_loss: 3.0583 - val_categorical_accuracy: 0.2718 - val_top_k_categorical_accuracy: 0.5631\n",
      "Epoch 2/30\n",
      "50000/50000 [==============================] - 139s - loss: 2.8123 - categorical_accuracy: 0.3083 - top_k_categorical_accuracy: 0.6048 - val_loss: 2.7752 - val_categorical_accuracy: 0.3297 - val_top_k_categorical_accuracy: 0.6236\n",
      "Epoch 3/30\n",
      "50000/50000 [==============================] - 144s - loss: 2.4897 - categorical_accuracy: 0.3740 - top_k_categorical_accuracy: 0.6761 - val_loss: 2.6739 - val_categorical_accuracy: 0.3468 - val_top_k_categorical_accuracy: 0.6435\n",
      "Epoch 4/30\n",
      "50000/50000 [==============================] - 145s - loss: 2.2447 - categorical_accuracy: 0.4259 - top_k_categorical_accuracy: 0.7267 - val_loss: 2.5562 - val_categorical_accuracy: 0.3642 - val_top_k_categorical_accuracy: 0.6643\n",
      "Epoch 5/30\n",
      "50000/50000 [==============================] - 145s - loss: 2.0472 - categorical_accuracy: 0.4653 - top_k_categorical_accuracy: 0.7663 - val_loss: 2.5772 - val_categorical_accuracy: 0.3706 - val_top_k_categorical_accuracy: 0.6632\n",
      "Epoch 6/30\n",
      "50000/50000 [==============================] - 144s - loss: 1.8671 - categorical_accuracy: 0.5041 - top_k_categorical_accuracy: 0.7980 - val_loss: 2.5280 - val_categorical_accuracy: 0.3775 - val_top_k_categorical_accuracy: 0.6690\n",
      "Epoch 7/30\n",
      "50000/50000 [==============================] - 141s - loss: 1.7180 - categorical_accuracy: 0.5357 - top_k_categorical_accuracy: 0.8250 - val_loss: 2.5408 - val_categorical_accuracy: 0.3779 - val_top_k_categorical_accuracy: 0.6701\n",
      "Epoch 8/30\n",
      "50000/50000 [==============================] - 141s - loss: 1.5879 - categorical_accuracy: 0.5655 - top_k_categorical_accuracy: 0.8482 - val_loss: 2.5795 - val_categorical_accuracy: 0.3727 - val_top_k_categorical_accuracy: 0.6556\n",
      "Epoch 9/30\n",
      "50000/50000 [==============================] - 143s - loss: 1.4888 - categorical_accuracy: 0.5860 - top_k_categorical_accuracy: 0.8654 - val_loss: 2.6940 - val_categorical_accuracy: 0.3585 - val_top_k_categorical_accuracy: 0.6383\n",
      "Epoch 10/30\n",
      "50000/50000 [==============================] - 144s - loss: 1.3816 - categorical_accuracy: 0.6090 - top_k_categorical_accuracy: 0.8819 - val_loss: 2.6543 - val_categorical_accuracy: 0.3751 - val_top_k_categorical_accuracy: 0.6598\n",
      "Epoch 11/30\n",
      "50000/50000 [==============================] - 145s - loss: 1.3116 - categorical_accuracy: 0.6293 - top_k_categorical_accuracy: 0.8942 - val_loss: 2.6679 - val_categorical_accuracy: 0.3703 - val_top_k_categorical_accuracy: 0.6564\n",
      "Epoch 12/30\n",
      "50000/50000 [==============================] - 148s - loss: 1.2501 - categorical_accuracy: 0.6433 - top_k_categorical_accuracy: 0.9060 - val_loss: 2.7093 - val_categorical_accuracy: 0.3744 - val_top_k_categorical_accuracy: 0.6572\n",
      "Epoch 13/30\n",
      "50000/50000 [==============================] - 145s - loss: 1.1849 - categorical_accuracy: 0.6582 - top_k_categorical_accuracy: 0.9129 - val_loss: 2.7937 - val_categorical_accuracy: 0.3713 - val_top_k_categorical_accuracy: 0.6496\n",
      "Epoch 14/30\n",
      "50000/50000 [==============================] - 145s - loss: 1.1311 - categorical_accuracy: 0.6735 - top_k_categorical_accuracy: 0.9194 - val_loss: 2.7699 - val_categorical_accuracy: 0.3688 - val_top_k_categorical_accuracy: 0.6537\n",
      "Epoch 15/30\n",
      "50000/50000 [==============================] - 146s - loss: 1.0927 - categorical_accuracy: 0.6815 - top_k_categorical_accuracy: 0.9255 - val_loss: 2.7962 - val_categorical_accuracy: 0.3723 - val_top_k_categorical_accuracy: 0.6589\n",
      "Epoch 16/30\n",
      "50000/50000 [==============================] - 146s - loss: 1.0459 - categorical_accuracy: 0.6936 - top_k_categorical_accuracy: 0.9315 - val_loss: 2.8854 - val_categorical_accuracy: 0.3587 - val_top_k_categorical_accuracy: 0.6422\n",
      "Epoch 17/30\n",
      "50000/50000 [==============================] - 145s - loss: 1.0219 - categorical_accuracy: 0.6999 - top_k_categorical_accuracy: 0.9361 - val_loss: 2.8365 - val_categorical_accuracy: 0.3772 - val_top_k_categorical_accuracy: 0.6586\n",
      "Epoch 18/30\n",
      "50000/50000 [==============================] - 146s - loss: 0.9860 - categorical_accuracy: 0.7089 - top_k_categorical_accuracy: 0.9401 - val_loss: 2.8805 - val_categorical_accuracy: 0.3739 - val_top_k_categorical_accuracy: 0.6559\n",
      "Epoch 19/30\n",
      "50000/50000 [==============================] - 143s - loss: 0.9467 - categorical_accuracy: 0.7212 - top_k_categorical_accuracy: 0.9451 - val_loss: 2.9118 - val_categorical_accuracy: 0.3665 - val_top_k_categorical_accuracy: 0.6544\n",
      "Epoch 20/30\n",
      "50000/50000 [==============================] - 143s - loss: 0.9298 - categorical_accuracy: 0.7216 - top_k_categorical_accuracy: 0.9471 - val_loss: 2.9755 - val_categorical_accuracy: 0.3688 - val_top_k_categorical_accuracy: 0.6501\n",
      "Epoch 21/30\n",
      "50000/50000 [==============================] - 141s - loss: 0.9115 - categorical_accuracy: 0.7311 - top_k_categorical_accuracy: 0.9482 - val_loss: 2.9782 - val_categorical_accuracy: 0.3683 - val_top_k_categorical_accuracy: 0.6497\n",
      "Epoch 22/30\n",
      "50000/50000 [==============================] - 145s - loss: 0.8824 - categorical_accuracy: 0.7391 - top_k_categorical_accuracy: 0.9519 - val_loss: 3.0215 - val_categorical_accuracy: 0.3677 - val_top_k_categorical_accuracy: 0.6516\n",
      "Epoch 23/30\n",
      "50000/50000 [==============================] - 144s - loss: 0.8702 - categorical_accuracy: 0.7410 - top_k_categorical_accuracy: 0.9530 - val_loss: 3.0632 - val_categorical_accuracy: 0.3563 - val_top_k_categorical_accuracy: 0.6382\n",
      "Epoch 24/30\n",
      "22112/50000 [============>.................] - ETA: 77s - loss: 0.7934 - categorical_accuracy: 0.7634 - top_k_categorical_accuracy: 0.9606"
     ]
    }
   ],
   "source": [
    "model = ConvNet()\n",
    "model.fit(\n",
    "        x=x_train,\n",
    "        y=y_train,\n",
    "        epochs=30,\n",
    "        validation_data=(x_val, y_val),\n",
    "        shuffle=True)"
   ]
  },
  {
   "cell_type": "markdown",
   "metadata": {},
   "source": [
    "## 6. Present your model\n",
    "Finally, we can use model.evaluate(data, label) to get the training and testing score. We used train_score[1] for training accuracy. train_score[0] will return training loss. "
   ]
  },
  {
   "cell_type": "code",
   "execution_count": null,
   "metadata": {
    "collapsed": true
   },
   "outputs": [],
   "source": [
    "train_score = model.evaluate(x_train, y_train)       # evaluate model on training dataset\n",
    "test_score = model.evaluate(x_val, y_val)          # evaluate model on testing dataset\n",
    "\n",
    "print ('\\n')                                         # start from a new line      \n",
    "print('Training accuracy:', train_score[1])          # print out training accuracy\n",
    "print('Testing accuracy:', test_score[1])            # print out testing accuracy"
   ]
  },
  {
   "cell_type": "markdown",
   "metadata": {},
   "source": [
    "We see that the dataset has a high training accuracy, but poor testing accuracy (on validation dataset). This is likely becuase of overfitting. We will learn how to improve our models in more advanced projects. "
   ]
  },
  {
   "cell_type": "code",
   "execution_count": null,
   "metadata": {
    "collapsed": true
   },
   "outputs": [],
   "source": []
  }
 ],
 "metadata": {
  "kernelspec": {
   "display_name": "Python 3",
   "language": "python",
   "name": "python3"
  },
  "language_info": {
   "codemirror_mode": {
    "name": "ipython",
    "version": 3
   },
   "file_extension": ".py",
   "mimetype": "text/x-python",
   "name": "python",
   "nbconvert_exporter": "python",
   "pygments_lexer": "ipython3",
   "version": "3.5.0"
  }
 },
 "nbformat": 4,
 "nbformat_minor": 2
}
